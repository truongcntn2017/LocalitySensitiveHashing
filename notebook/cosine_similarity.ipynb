{
  "nbformat": 4,
  "nbformat_minor": 0,
  "metadata": {
    "colab": {
      "name": "cosine_similarity",
      "provenance": [],
      "collapsed_sections": []
    },
    "kernelspec": {
      "name": "python3",
      "display_name": "Python 3"
    },
    "language_info": {
      "name": "python"
    }
  },
  "cells": [
    {
      "cell_type": "markdown",
      "metadata": {
        "id": "w2RPpSCHrrNc"
      },
      "source": [
        "# Import package "
      ]
    },
    {
      "cell_type": "code",
      "metadata": {
        "id": "7n-JknA7rxCo"
      },
      "source": [
        "from __future__ import division\n",
        "import numpy as np\n",
        "import math\n",
        "\n",
        "from sklearn.metrics.pairwise import cosine_similarity"
      ],
      "execution_count": null,
      "outputs": []
    },
    {
      "cell_type": "markdown",
      "metadata": {
        "id": "xqIs9pkIr-Fk"
      },
      "source": [
        "# Support function "
      ]
    },
    {
      "cell_type": "code",
      "metadata": {
        "id": "qMasLursyw2k"
      },
      "source": [
        "def signature_bit(data, planes):\n",
        "\t\"\"\"\n",
        "\tLSH signature generation using random projection\n",
        "\tReturns the signature bits for two data points.\n",
        "\tThe signature bits of the two points are different\n",
        " \tonly for the plane that divides the two points.\n",
        " \t\"\"\"\n",
        "\tsig = 0\n",
        "\tfor p in planes:\n",
        "\t\tsig <<=  1\t\t\n",
        "\t\tif np.dot(data, p) >= 0:\n",
        "\t\t\tsig |= 1\n",
        "\treturn sig"
      ],
      "execution_count": null,
      "outputs": []
    },
    {
      "cell_type": "code",
      "metadata": {
        "id": "G26JEWGhr0c7"
      },
      "source": [
        " def bitcount(n):\n",
        "\t\"\"\"\n",
        "\tgets the number of bits set to 1\n",
        "\t\"\"\"\n",
        "\tcount = 0\n",
        "\twhile n:\n",
        "\t\tcount += 1\n",
        "\t\tn = n & (n-1)\n",
        "\treturn count"
      ],
      "execution_count": null,
      "outputs": []
    },
    {
      "cell_type": "code",
      "metadata": {
        "id": "svCRnv6u0yQ0"
      },
      "source": [
        "def length(v):\n",
        "\t\"\"\"\n",
        "\tgets the length of vector \n",
        "\t\"\"\"\n",
        "\n",
        "\treturn np.dot(v, v)**0.5"
      ],
      "execution_count": null,
      "outputs": []
    },
    {
      "cell_type": "code",
      "metadata": {
        "id": "ULjiaDAFL4H9"
      },
      "source": [
        "def get_cosine_similarity(x, y):\n",
        "    return cosine_similarity([x], [y])[0][0]"
      ],
      "execution_count": null,
      "outputs": []
    },
    {
      "cell_type": "code",
      "metadata": {
        "colab": {
          "base_uri": "https://localhost:8080/"
        },
        "id": "QiunyRj-yyyu",
        "outputId": "7b198a04-3819-463a-e8f6-f46895da6b14"
      },
      "source": [
        "if __name__ == '__main__':\n",
        "\tdim = 20       # dimension of data points (# of features)\n",
        "\tbits = 128    # number of bits (planes) per signature\n",
        "\trun = 100       # number of runs\n",
        "\tavg = 0\n",
        "\n",
        "\tfor r in range(run):\n",
        "\t    # Generate two data points p1, p2\n",
        "\t    pt1 = np.random.randn(dim)\n",
        "\t    pt2 = np.random.randn(dim)\t\n",
        "\t    # reference planes as many as bits (= signature bits)\n",
        "\t    ref_planes = np.random.randn(bits, dim)\n",
        "\n",
        "\t    # signature bits for two data points\n",
        "\t    sig1 = signature_bit(pt1, ref_planes)\n",
        "\t    sig2 = signature_bit(pt2, ref_planes)\n",
        "\n",
        "\t    # cosine = np.dot(pt1,pt2)/length(pt1)/length(pt2)\n",
        "\t    cosine = get_cosine_similarity(pt1, pt2)\n",
        "\t    exact = math.acos(cosine)/math.pi\n",
        "     \n",
        "\t    # Calculates angle difference using LSH based on cosine distance\n",
        "\t    # It's using signature bits' count\n",
        "\t    cosine_hash = bitcount(sig1^sig2)/bits\n",
        "\n",
        "\n",
        "\t    # Difference between exact and LSH\n",
        "\t    diff = abs(cosine_hash-exact)/exact\n",
        "\t    avg += diff\n",
        "\t    print('exact {:.2f}, hash {:.2f}, diff {:.2f}'.format(exact, cosine_hash, diff))\n",
        "\n",
        "\tprint('avg diff = {:.2f}'.format(avg/run))"
      ],
      "execution_count": null,
      "outputs": [
        {
          "output_type": "stream",
          "name": "stdout",
          "text": [
            "exact 0.55, hash 0.55, diff 0.01\n",
            "exact 0.46, hash 0.55, diff 0.20\n",
            "exact 0.51, hash 0.51, diff 0.00\n",
            "exact 0.47, hash 0.39, diff 0.17\n",
            "exact 0.45, hash 0.39, diff 0.13\n",
            "exact 0.66, hash 0.60, diff 0.09\n",
            "exact 0.64, hash 0.67, diff 0.06\n",
            "exact 0.54, hash 0.41, diff 0.23\n",
            "exact 0.50, hash 0.57, diff 0.14\n",
            "exact 0.50, hash 0.51, diff 0.02\n",
            "exact 0.52, hash 0.48, diff 0.08\n",
            "exact 0.51, hash 0.59, diff 0.15\n",
            "exact 0.41, hash 0.41, diff 0.00\n",
            "exact 0.45, hash 0.43, diff 0.04\n",
            "exact 0.49, hash 0.46, diff 0.06\n",
            "exact 0.51, hash 0.57, diff 0.12\n",
            "exact 0.59, hash 0.62, diff 0.05\n",
            "exact 0.50, hash 0.48, diff 0.05\n",
            "exact 0.49, hash 0.40, diff 0.19\n",
            "exact 0.60, hash 0.64, diff 0.06\n",
            "exact 0.40, hash 0.46, diff 0.14\n",
            "exact 0.57, hash 0.62, diff 0.08\n",
            "exact 0.58, hash 0.55, diff 0.05\n",
            "exact 0.46, hash 0.45, diff 0.01\n",
            "exact 0.49, hash 0.46, diff 0.05\n",
            "exact 0.57, hash 0.57, diff 0.00\n",
            "exact 0.46, hash 0.52, diff 0.14\n",
            "exact 0.36, hash 0.38, diff 0.07\n",
            "exact 0.58, hash 0.59, diff 0.03\n",
            "exact 0.50, hash 0.45, diff 0.09\n",
            "exact 0.50, hash 0.54, diff 0.07\n",
            "exact 0.45, hash 0.52, diff 0.15\n",
            "exact 0.37, hash 0.38, diff 0.03\n",
            "exact 0.50, hash 0.50, diff 0.01\n",
            "exact 0.54, hash 0.53, diff 0.01\n",
            "exact 0.64, hash 0.59, diff 0.08\n",
            "exact 0.44, hash 0.48, diff 0.07\n",
            "exact 0.53, hash 0.52, diff 0.01\n",
            "exact 0.57, hash 0.55, diff 0.03\n",
            "exact 0.58, hash 0.53, diff 0.09\n",
            "exact 0.44, hash 0.49, diff 0.12\n",
            "exact 0.52, hash 0.51, diff 0.02\n",
            "exact 0.51, hash 0.54, diff 0.06\n",
            "exact 0.54, hash 0.45, diff 0.15\n",
            "exact 0.47, hash 0.43, diff 0.08\n",
            "exact 0.49, hash 0.51, diff 0.03\n",
            "exact 0.54, hash 0.60, diff 0.12\n",
            "exact 0.41, hash 0.33, diff 0.19\n",
            "exact 0.45, hash 0.51, diff 0.14\n",
            "exact 0.61, hash 0.60, diff 0.01\n",
            "exact 0.54, hash 0.62, diff 0.14\n",
            "exact 0.43, hash 0.42, diff 0.02\n",
            "exact 0.59, hash 0.56, diff 0.04\n",
            "exact 0.49, hash 0.48, diff 0.01\n",
            "exact 0.50, hash 0.52, diff 0.05\n",
            "exact 0.52, hash 0.54, diff 0.04\n",
            "exact 0.45, hash 0.48, diff 0.07\n",
            "exact 0.37, hash 0.36, diff 0.04\n",
            "exact 0.49, hash 0.53, diff 0.09\n",
            "exact 0.35, hash 0.32, diff 0.09\n",
            "exact 0.57, hash 0.57, diff 0.01\n",
            "exact 0.52, hash 0.52, diff 0.00\n",
            "exact 0.41, hash 0.41, diff 0.02\n",
            "exact 0.48, hash 0.45, diff 0.07\n",
            "exact 0.46, hash 0.49, diff 0.06\n",
            "exact 0.50, hash 0.55, diff 0.12\n",
            "exact 0.51, hash 0.48, diff 0.04\n",
            "exact 0.50, hash 0.45, diff 0.10\n",
            "exact 0.43, hash 0.47, diff 0.10\n",
            "exact 0.49, hash 0.58, diff 0.18\n",
            "exact 0.47, hash 0.55, diff 0.19\n",
            "exact 0.42, hash 0.36, diff 0.13\n",
            "exact 0.59, hash 0.59, diff 0.01\n",
            "exact 0.49, hash 0.47, diff 0.05\n",
            "exact 0.41, hash 0.34, diff 0.16\n",
            "exact 0.42, hash 0.30, diff 0.28\n",
            "exact 0.45, hash 0.44, diff 0.02\n",
            "exact 0.35, hash 0.34, diff 0.04\n",
            "exact 0.46, hash 0.46, diff 0.00\n",
            "exact 0.49, hash 0.36, diff 0.26\n",
            "exact 0.54, hash 0.54, diff 0.00\n",
            "exact 0.57, hash 0.53, diff 0.06\n",
            "exact 0.41, hash 0.45, diff 0.11\n",
            "exact 0.51, hash 0.53, diff 0.05\n",
            "exact 0.51, hash 0.54, diff 0.06\n",
            "exact 0.37, hash 0.45, diff 0.20\n",
            "exact 0.41, hash 0.41, diff 0.00\n",
            "exact 0.50, hash 0.55, diff 0.10\n",
            "exact 0.54, hash 0.54, diff 0.01\n",
            "exact 0.52, hash 0.50, diff 0.03\n",
            "exact 0.33, hash 0.26, diff 0.22\n",
            "exact 0.53, hash 0.57, diff 0.08\n",
            "exact 0.71, hash 0.71, diff 0.01\n",
            "exact 0.60, hash 0.65, diff 0.08\n",
            "exact 0.62, hash 0.59, diff 0.05\n",
            "exact 0.46, hash 0.42, diff 0.08\n",
            "exact 0.51, hash 0.58, diff 0.14\n",
            "exact 0.48, hash 0.48, diff 0.01\n",
            "exact 0.46, hash 0.49, diff 0.07\n",
            "exact 0.48, hash 0.50, diff 0.05\n",
            "avg diff = 0.08\n"
          ]
        }
      ]
    },
    {
      "cell_type": "code",
      "metadata": {
        "id": "i-FqKn0E2q__"
      },
      "source": [
        "# Reference \n",
        "\n"
      ],
      "execution_count": null,
      "outputs": []
    }
  ]
}